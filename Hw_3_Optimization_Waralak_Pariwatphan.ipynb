{
  "nbformat": 4,
  "nbformat_minor": 0,
  "metadata": {
    "colab": {
      "provenance": []
    },
    "kernelspec": {
      "name": "python3",
      "display_name": "Python 3"
    },
    "language_info": {
      "name": "python"
    }
  },
  "cells": [
    {
      "cell_type": "markdown",
      "source": [
        "# Question 1 (1 point) "
      ],
      "metadata": {
        "id": "Ytyqg3R36fkd"
      }
    },
    {
      "cell_type": "markdown",
      "source": [
        "Prove that if functions $f(.), g(.)$ are convex, then $h(x) = \\max \\{f(x), g(x)\\}$ is convex as well.\n",
        "\n",
        "\n",
        "---\n",
        "\n",
        "\n",
        "\n"
      ],
      "metadata": {
        "id": "g9hzU-zF6ndx"
      }
    },
    {
      "cell_type": "markdown",
      "source": [
        "**Solution** <br>\n",
        "The definition of convexity for function: <br>\n",
        "As any two points $x,y ∈ S, \\quad αx + (1 − α)y ∈ S$ for all $α ∈ [0, 1] \\quad$ and function $f$ is a convex function if its domain $S$ is a convex set and $x$ and $y$ in $S$ are satisfied the property\n",
        "$$ f(αx + (1−α)y) ≤ αf(x) + (1−α)f(y), \\quad \\text{for all } α ∈ [0, 1]. $$\n",
        "\n",
        "Since we have\n",
        "\n",
        "\\begin{aligned} \n",
        "h(x) &= \\max \\{f(x), g(x)\\} \\\\\n",
        "h(αx + (1-α)y) \n",
        "&= \\max \\{f(αx + (1-α)y), g(αx + (1-α)y)\\} \\\\\n",
        "&≤ \\max \\{ αf(x) + (1-α)f(y), αg(x) + (1-α)g(y)\\} \\\\\n",
        "&≤ αh(x) + (1-α)h(y)   \\\\\n",
        "\\end{aligned} \n",
        "\n",
        "Since $f(x)$ and $g(x)$ are convex and $h(x)$ is satisfied the property over the domain $S$ which is convex set. So, $h(x)$ is a convex function."
      ],
      "metadata": {
        "id": "gd5kt0d_6rLa"
      }
    },
    {
      "cell_type": "markdown",
      "source": [
        "# Question 2 (2 point) "
      ],
      "metadata": {
        "id": "uxTsCbc96rNx"
      }
    },
    {
      "cell_type": "markdown",
      "source": [
        "Find conjugate function $f^{*}(y)$ for $f(x)=(Q x, x)$ and $Q ≻ 0$.\n",
        "\n",
        "\n",
        "---\n",
        "\n",
        "\n",
        "\n"
      ],
      "metadata": {
        "id": "MvfMshT36rQF"
      }
    },
    {
      "cell_type": "markdown",
      "source": [
        "**Solution**\n",
        "\n",
        "Conjugate function can be defined as \n",
        "$$ f^*(y) = \\sup_{x ∈ dom f}((y,x) - f(x)) $$\n",
        "\n",
        "We have \n",
        "\\begin{aligned} \n",
        "f^*(y) \n",
        "&= \\sup_{x ∈ dom f}((y,x) - (Qx,x)) \\\\\n",
        "&= \\sup_{x ∈ dom f}(y^Tx - x^TQx) \\quad \\text{as }  Q ≻ 0\\\\\n",
        "\\end{aligned} \n",
        "\n",
        "Consider function, $\\quad y^Tx - x^TQx, \\quad$ find the maximum $x$,\n",
        "\\begin{aligned} \n",
        "\\frac{∂ (y^Tx - x^TQx)}{∂ x} &= 0 \\\\\n",
        "y - 2Qx &= 0 \\\\ \n",
        "x &= \\frac{1}{2} Q^{-1}y\n",
        "\\end{aligned} \n",
        "\n",
        "So that,\n",
        "\\begin{aligned} \n",
        "f^*(y) \n",
        "&= \\sup_{x ∈ dom f}(y^Tx - x^TQx) \\\\\n",
        "&= y^T \\left( \\frac{1}{2}Q^{-1}y \\right)- \\left( \\frac{1}{2}Q^{-1}y \\right)^T Q \\left( \\frac{1}{2}Q^{-1}y \\right) \\\\\n",
        "&= \\frac{1}{2} y^T Q^{-1} y - \\frac{1}{4} y^T Q^{-1} Q Q^{-1} y \\quad \\text{; since } (Q^{-1})^T = (Q^T)^{-1} = Q^{-1} \\quad ; Q ≻ 0 \\\\\n",
        "&= \\frac{1}{2} y^T Q^{-1} y - \\frac{1}{4} y^T Q^{-1} y \\\\\n",
        "&= \\frac{1}{2} y^T Q^{-1} y \n",
        "\\end{aligned} "
      ],
      "metadata": {
        "id": "ahDgG_iv70TJ"
      }
    },
    {
      "cell_type": "markdown",
      "source": [
        "# Question 3 (2 point) "
      ],
      "metadata": {
        "id": "IPSTNbq46rTB"
      }
    },
    {
      "cell_type": "markdown",
      "source": [
        "Solve one-dimensional problem (approximation by constant)\n",
        "$$ \\min _{z \\in ℝ} \\frac{1}{m} \\sum_{i=1}^{m}\\left(z-x_{i}\\right)^{2} $$\n",
        "\n",
        "---"
      ],
      "metadata": {
        "id": "S2PC6Csl6rVT"
      }
    },
    {
      "cell_type": "markdown",
      "source": [
        "**Solution**\n",
        "\n",
        "Let objective function: $\\quad f(x) = \\frac{1}{m} \\sum_{i=1}^{m}\\left(z-x_{i}\\right)^{2}$.\n",
        "\n",
        "Find z value which will give the minimum by solving $f'(x) = 0$,\n",
        "\n",
        "\\begin{aligned}\n",
        "\\frac{∂ f(x)}{∂ z} &= 0 \\\\\n",
        "\\frac{2}{m} \\sum_{i=1}^m \\left(z-x_{i}\\right) &= 0 \\\\\n",
        "\\frac{2}{m} \\left( (z-x_{1}) + (z-x_{2}) + ⋯ + (z-x_{m}) \\right) &= 0 \\\\\n",
        "\\frac{2}{m} \\left( mz - \\sum_{i=1}^m x_{i} \\right) &= 0 \\\\\n",
        "z &= \\frac{\\sum_{i=1}^m x_{i}}{m}\n",
        "\\end{aligned}\n",
        "\n",
        "Check if $f''(x) > 0$,\n",
        "\n",
        "\\begin{aligned}\n",
        "\\frac{∂^2 f(x)}{∂ z} \n",
        "&= \\frac{2}{m} \\left( 1+1+⋯+1 \\right)  \\\\\n",
        "&= \\frac{2}{m} \\left( m \\right) \\\\\n",
        "&= 2 > 0\n",
        "\\end{aligned}\n",
        "\n",
        "So that, $\\quad z^* =  \\frac{\\sum_{i=1}^m x_{i}}{m} $"
      ],
      "metadata": {
        "id": "8G8ZcNmt71V-"
      }
    },
    {
      "cell_type": "markdown",
      "source": [
        "# Question 4 (3 point) "
      ],
      "metadata": {
        "id": "DvD1j7Ro6rXk"
      }
    },
    {
      "cell_type": "markdown",
      "source": [
        "Best approximating line (coefficients $a, b \\in ℝ$ ). For points on plane $\\left(x_{i}, y_{i}\\right) \\in ℝ^{2}, i=$ $1,2, \\ldots m$, \n",
        "\n",
        "there is a best matching line $a x+b$, which minimizes mean of residuals:\n",
        "$$ \\min _{a, b} \\frac{1}{m} \\sum_{i=1}^{m}\\left(a x_{i}+b-y_{i}\\right)^{2} $$\n",
        "\n",
        "Solve this problem explicitly with respect to $a, b$. (Hint: it is an unconstrained optimization problem.)\n",
        "\n",
        "\n",
        "---\n",
        "\n"
      ],
      "metadata": {
        "id": "jwM6binr6rZs"
      }
    },
    {
      "cell_type": "markdown",
      "source": [
        "**Solution**\n",
        "\n",
        "Let objective function: $\\quad f(x,y) = \\frac{1}{m} \\sum_{i=1}^m ( a x_i + b - y_i )^2 $\n",
        "\n",
        "*   Find $a$ by $\\quad \\frac{∂ f(x,y)}{∂ a} = 0$\n",
        "\n",
        "\\begin{aligned} \n",
        "\\frac{2}{m} \\sum_{i=1}^m ( a x_i + b - y_i ) (x_i) &= 0 \\\\\n",
        "a \\sum_{i=1}^m x^2_i + b \\sum_{i=1}^m x_i - \\sum_{i=1}^m y_i x_i &= 0\\\\\n",
        "a &= \\frac{\\sum_{i=1}^m (y_i - b) (x_i)}{\\sum_{i=1}^m x^2_i} \\\\\n",
        "\\end{aligned} \n",
        "\n",
        "*   Find $b$ by $\\quad \\frac{∂ f(x,y)}{∂ b} = 0$\n",
        "\n",
        "\\begin{aligned} \n",
        "\\frac{2}{m} \\sum_{i=1}^m ( a x_i + b - y_i ) &= 0 \\\\\n",
        "a \\sum_{i=1}^m x_i + mb - \\sum_{i=1}^m y_i  &= 0 \\\\\n",
        "\\left( \\frac{\\sum_{i=1}^m (y_i x_i) - b \\sum_{i=1}^m x_i}{\\sum_{i=1}^m x^2_i} \\right) \\sum_{i=1}^m x_i + mb - \\sum_{i=1}^m y_i  &= 0 \\\\\n",
        "\\left( \\frac{ \\sum_{i=1}^m (y_i x_i) \\sum_{i=1}^m x_i }{\\sum_{i=1}^m x^2_i} \\right) - b \\frac{ \\left( \\sum_{i=1}^m x_i \\right)^2 }{ \\sum_{i=1}^m x^2_i }  + mb - \\sum_{i=1}^m y_i  &= 0 \\\\\n",
        "b \\left( m - \\frac{ \\left( \\sum_{i=1}^m x_i \\right)^2 }{ \\sum_{i=1}^m x^2_i } \\right)  &= \\sum_{i=1}^m y_i - \\left( \\frac{ \\sum_{i=1}^m (y_i x_i) \\sum_{i=1}^m x_i }{\\sum_{i=1}^m x^2_i} \\right)  \\\\\n",
        "b &= \\frac{ \\sum_{i=1}^m y_i \\sum_{i=1}^m x^2_i - \\sum_{i=1}^m (y_i x_i) \\sum_{i=1}^m x_i }{m \\sum_{i=1}^m x^2_i - \\left( \\sum_{i=1}^m x_i \\right)^2 }\n",
        "\\end{aligned} \n",
        "\n",
        "So that,\n",
        "\\begin{aligned} \n",
        "a^* &= \\frac{\\sum_{i=1}^m (y_i - b) (x_i)}{\\sum_{i=1}^m x^2_i}  \\\\\n",
        "b^* &= \\frac{ \\sum_{i=1}^m y_i \\sum_{i=1}^m x^2_i - \\sum_{i=1}^m (y_i x_i) \\sum_{i=1}^m x_i }{m \\sum_{i=1}^m x^2_i - \\left( \\sum_{i=1}^m x_i \\right)^2 } \n",
        "\\end{aligned} "
      ],
      "metadata": {
        "id": "oHNp2vvj72HO"
      }
    },
    {
      "cell_type": "markdown",
      "source": [
        "# Question 5 (18 point) "
      ],
      "metadata": {
        "id": "CAAOIgCn62Eg"
      }
    },
    {
      "cell_type": "markdown",
      "source": [
        "Let us consider a convex quadratic function\n",
        "$$ f(x)=\\mathbf{x}^T \\mathbf{Ax} $$\n",
        "where $\\mathbf{A}$ is symmetric positive definite matrix with controllable $\\mathcal{K} = \\frac{\\lambda_{\\max }}{\\lambda_{\\min }}$ \n",
        "You may consider that $\\mathbf{A}$ is an $n \\times n$ Hilbert matrix (assume $n=5$) give by,\n",
        "\n",
        "$$ \\mathbf{A}_{ij} = \\frac{1}{i+j-1}, \\quad i=1,2, \\ldots, 5, \\quad j=1,2, \\ldots, 5 $$\n",
        "\n",
        "\n",
        "\n",
        "\n"
      ],
      "metadata": {
        "id": "Jh_71eTV62HU"
      }
    },
    {
      "cell_type": "markdown",
      "source": [
        "\n",
        "\n",
        "---\n",
        "\n",
        "\n",
        "## 1. Analyze the spectrum of the Hessian of the function, find maximum and minimum eigenvalues $L$ and $m$.\n",
        "\n",
        "\n",
        "\n"
      ],
      "metadata": {
        "id": "fw-Gymnf-nRr"
      }
    },
    {
      "cell_type": "code",
      "source": [
        "import numpy as np\n",
        "import matplotlib.pyplot as plt\n",
        "import warnings\n",
        "warnings.filterwarnings(\"ignore\")\n",
        "\n",
        "# Hilbert matrix\n",
        "def hilbert_mat(n):\n",
        "    A = np.zeros((n, n))\n",
        "    for i in range(1, n+1):\n",
        "        for j in range(1, n+1):\n",
        "            A[i-1, j-1] = 1 / (i + j - 1)\n",
        "    return A\n",
        "\n",
        "# function \n",
        "def func(x):\n",
        "    global oracle_calls\n",
        "    A = hilbert_mat(len(x))\n",
        "    fx = (x.T @ A) @ x \n",
        "    oracle_calls += 1\n",
        "    return fx\n",
        "\n",
        "# gradient\n",
        "def grad_func(x): \n",
        "    global oracle_calls\n",
        "    A = hilbert_mat(len(x))\n",
        "    grad = 2 * (A @ x)  \n",
        "    oracle_calls += 1 \n",
        "    return grad\n",
        "\n",
        "\n",
        "# Define x0\n",
        "x0 = np.array([1, 1, 1, 1, 1])\n",
        "\n",
        "n = len(x0)\n",
        "A = hilbert_mat(n)\n",
        "\n",
        "# Hessian of f(x) = 2A\n",
        "hessian = 2*A\n",
        "eig_vals, _ = np.linalg.eig(hessian)\n",
        "L = max(eig_vals)\n",
        "m = min(eig_vals)\n",
        "\n",
        "print(f'Hessian of the function f(x) = x^TAx = 2A is \\n{hessian}\\n')\n",
        "print(f'eigen values = {eig_vals} \\nAll eigen values are positive.\\n')\n",
        "print(f'maximum eigenvalues L = {L} \\nminimum eigenvalues m = {m}')"
      ],
      "metadata": {
        "colab": {
          "base_uri": "https://localhost:8080/"
        },
        "id": "O2J4acA8xNsO",
        "outputId": "022316af-5d23-415c-eeeb-0c36e2ee20f9"
      },
      "execution_count": 369,
      "outputs": [
        {
          "output_type": "stream",
          "name": "stdout",
          "text": [
            "Hessian of the function f(x) = x^TAx = 2A is \n",
            "[[2.         1.         0.66666667 0.5        0.4       ]\n",
            " [1.         0.66666667 0.5        0.4        0.33333333]\n",
            " [0.66666667 0.5        0.4        0.33333333 0.28571429]\n",
            " [0.5        0.4        0.33333333 0.28571429 0.25      ]\n",
            " [0.4        0.33333333 0.28571429 0.25       0.22222222]]\n",
            "\n",
            "eigen values = [3.13410138e+00 4.17068437e-01 2.28149832e-02 6.11796080e-04\n",
            " 6.57585754e-06] \n",
            "All eigen values are positive.\n",
            "\n",
            "maximum eigenvalues L = 3.1341013821964605 \n",
            "minimum eigenvalues m = 6.575857544341136e-06\n"
          ]
        }
      ]
    },
    {
      "cell_type": "markdown",
      "source": [
        "\n",
        "\n",
        "---\n",
        "\n",
        "\n",
        "\n",
        "## 2. Implement the following methods:\n",
        "\n",
        "\n",
        "\n",
        "\n"
      ],
      "metadata": {
        "id": "2Sz7y9Pi-sAS"
      }
    },
    {
      "cell_type": "markdown",
      "source": [
        "### (1) Gradient descent with a constant step size, i.e., γ=1/L"
      ],
      "metadata": {
        "id": "qdvhs-ytvckb"
      }
    },
    {
      "cell_type": "code",
      "source": [
        "# Gradient descent with a constant step size γ = 1/L\n",
        "\n",
        "def gradient_descent_constant(x, gamma = 'system', tol = 1e-5, max_iter = 10000):\n",
        "    global oracle_calls\n",
        "    oracle_calls = 0\n",
        "    if gamma == 'system':\n",
        "        A = hilbert_mat(len(x))\n",
        "        hessian = 2*A\n",
        "        eig_vals, _ = np.linalg.eig(hessian)\n",
        "        L = max(eig_vals)\n",
        "        gamma = 1/L\n",
        "    else:\n",
        "        gamma = gamma\n",
        "\n",
        "    # 1st step\n",
        "    i = 0\n",
        "    er = np.linalg.norm(grad_func(x))   \n",
        "    list_xs = [x]\n",
        "    list_fx = [func(x)]     \n",
        "    list_er = [er]\n",
        "\n",
        "    # loop steps\n",
        "    while (i < max_iter) & (er >= tol):\n",
        "        dx = grad_func(x)  \n",
        "\n",
        "        # update x\n",
        "        x = x - gamma * dx\n",
        "        er = np.linalg.norm(grad_func(x))  \n",
        "        \n",
        "        list_xs.append(x)\n",
        "        list_fx.append(func(x))     \n",
        "        list_er.append(er)\n",
        "        i += 1\n",
        "     \n",
        "    print(f'Gradient descent with a constant step size (γ = 1/L)')\n",
        "    if i == max_iter:\n",
        "        print(f'Number of iteration = {i}, oracle_calls = {oracle_calls}. Function does not converge at γ = {gamma}!')\n",
        "        print(f'The current x = {list_xs[-1]}. \\nThe current f(x) = {list_fx[-1]}')\n",
        "    else:\n",
        "        print(f'Number of iteration = {i}, oracle_calls = {oracle_calls}, gamma = {gamma}')\n",
        "        print(f'The optimal x = {list_xs[-1]}. \\nThe optimal f(x) = {list_fx[-1]}')\n",
        "        \n",
        "    return list_xs, list_fx, list_er, i, oracle_calls"
      ],
      "metadata": {
        "id": "ZQoHEV0Rf619"
      },
      "execution_count": 370,
      "outputs": []
    },
    {
      "cell_type": "code",
      "source": [
        "list_xs_C, list_fx_C, list_er_C, i_C, oracle_calls_C = gradient_descent_constant(x0, gamma = 'system')\n",
        "\n",
        "print(oracle_calls_C)"
      ],
      "metadata": {
        "id": "dp6I2KpbC5Ti",
        "colab": {
          "base_uri": "https://localhost:8080/"
        },
        "outputId": "b174aea5-a83d-49dd-a4cc-da735fa50f21"
      },
      "execution_count": 371,
      "outputs": [
        {
          "output_type": "stream",
          "name": "stdout",
          "text": [
            "Gradient descent with a constant step size (γ = 1/L)\n",
            "Number of iteration = 4923, oracle_calls = 14771, gamma = 0.3190707249231273\n",
            "The optimal x = [-0.00074207  0.0065285  -0.00855264 -0.00737648  0.01086289]. \n",
            "The optimal f(x) = 8.177775233236497e-08\n",
            "14771\n"
          ]
        }
      ]
    },
    {
      "cell_type": "markdown",
      "source": [
        "### (2) Gradient descent with a smaller step size (Armijo)"
      ],
      "metadata": {
        "id": "A8dzvbjjverC"
      }
    },
    {
      "cell_type": "code",
      "source": [
        "# Gradient descent with a smaller step size (Armijo)  -->  f(x + alpha*p) <= f(x) + c1*alpha*np.dot(grad(f),p)\n",
        "def armijo(x_cur, p, c1, alpha0): \n",
        "    global oracle_calls\n",
        "    \n",
        "    alpha = alpha0\n",
        "    x_new = x_cur + alpha * p\n",
        "    fx_cur = func(x_cur)     # oracle calls --> +1\n",
        "    fx_new = func(x_new)     # oracle calls --> +1\n",
        "    grad_cur = grad_func(x_cur) # oracle calls --> +1\n",
        "    iter = 0\n",
        "    oracle_calls += 3\n",
        "\n",
        "    # check Armijo condition\n",
        "    while ((fx_new) > (fx_cur + c1 * alpha * np.dot(grad_cur, p))): \n",
        "        iter += 1\n",
        "        alpha = alpha * 0.5\n",
        "        x_new = x_cur + alpha * p\n",
        "        fx_new = func(x_new)\n",
        "\n",
        "    return alpha, iter\n",
        "\n",
        "def gradient_descent_amijo(x, c1, alpha0, tol = 1e-5, max_iter = 10000):\n",
        "    global oracle_calls\n",
        "    oracle_calls = 0\n",
        "    \n",
        "    # 1st step\n",
        "    i = 0\n",
        "    er = np.linalg.norm(grad_func(x))\n",
        "    list_xs = [x]\n",
        "    list_fx = [func(x)]\n",
        "    list_er = [er]\n",
        "\n",
        "    # loop steps\n",
        "    while (i < max_iter) & (er >= tol):\n",
        "        dx = grad_func(x)\n",
        "\n",
        "        # calculate direction\n",
        "        direction = -1.0 * dx\n",
        "        \n",
        "        # calculate step size\n",
        "        gamma, ls_ = armijo(x, direction, c1, alpha0)\n",
        "\n",
        "        # update x\n",
        "        x = x - gamma * dx\n",
        "        er = np.linalg.norm(grad_func(x))\n",
        "        \n",
        "        list_xs.append(x)\n",
        "        list_fx.append(func(x))\n",
        "        list_er.append(er)\n",
        "        i += 1\n",
        "\n",
        "    print(f'Gradient descent with a smaller step size (Armijo)')\n",
        "    if i == max_iter:\n",
        "        print(f'Number of iteration = {i}, oracle_calls = {oracle_calls}. Function does not converge!')\n",
        "        print(f'The current x = {list_xs[-1]}. \\nThe current f(x) = {list_fx[-1]}')\n",
        "    else:\n",
        "        print(f'Number of iteration = {i}, oracle_calls = {oracle_calls}')\n",
        "        print(f'The optimal x = {list_xs[-1]}. \\nThe optimal f(x) = {list_fx[-1]}')\n",
        "        \n",
        "        \n",
        "    return list_xs, list_fx, list_er, i, oracle_calls"
      ],
      "metadata": {
        "id": "LF1cKwwHC5Qk"
      },
      "execution_count": 372,
      "outputs": []
    },
    {
      "cell_type": "code",
      "source": [
        "list_xs_A, list_fx_A, list_er_A, i_A, oracle_calls_A = gradient_descent_amijo(x0, c1 = 1e-4, alpha0 = 1)"
      ],
      "metadata": {
        "id": "1-2-kfayC5WZ",
        "colab": {
          "base_uri": "https://localhost:8080/"
        },
        "outputId": "c209ef28-a1c4-4a48-8f65-28a150b2f7ed"
      },
      "execution_count": 373,
      "outputs": [
        {
          "output_type": "stream",
          "name": "stdout",
          "text": [
            "Gradient descent with a smaller step size (Armijo)\n",
            "Number of iteration = 2849, oracle_calls = 27283\n",
            "The optimal x = [-0.000555    0.00479951 -0.00589223 -0.00643457  0.00862795]. \n",
            "The optimal f(x) = 4.669680030009055e-08\n"
          ]
        }
      ]
    },
    {
      "cell_type": "markdown",
      "source": [
        "### (3) Exact line search"
      ],
      "metadata": {
        "id": "4QrNL7XVvwqv"
      }
    },
    {
      "cell_type": "markdown",
      "source": [
        "**Exact line search** \n",
        "\n",
        "Find step size (alpha) in each iteration:\n",
        "$$ α = argmin f( x - α ∇f(x) )$$\n",
        "\n",
        "We can derive,\n",
        "\n",
        "\\begin{aligned}\n",
        "∇f(x - α ∇f(x)) &= 2A (x - α ∇f(x))^T (- ∇f(x)) \\\\\n",
        "0 &= - x^T ∇f(x) + α ∇f(x)^T ∇f(x) \\\\\n",
        "α ∇f(x)^T ∇f(x) &= x^T ∇f(x) \\\\\n",
        "α &= \\frac{x^T ∇f(x)}{∇f(x)^T ∇f(x)} \n",
        "\\end{aligned}"
      ],
      "metadata": {
        "id": "mYKBM8zIHa__"
      }
    },
    {
      "cell_type": "code",
      "source": [
        "# Exact line search\n",
        "def exact_line_search(x, tol = 1e-5, max_iter = 10000):\n",
        "    global oracle_calls\n",
        "    oracle_calls = 0\n",
        "    \n",
        "    # 1st step\n",
        "    i = 0\n",
        "    er = np.linalg.norm(grad_func(x))\n",
        "    list_xs = [x]\n",
        "    list_fx = [func(x)]\n",
        "    list_er = [er]\n",
        "\n",
        "    # loop steps\n",
        "    while (i < max_iter) & (er >= tol):\n",
        "        dx = grad_func(x)\n",
        "\n",
        "        gamma = (x.T @ dx) / (dx.T @ dx)\n",
        "        \n",
        "        # update x\n",
        "        x = x - gamma * dx\n",
        "        er = np.linalg.norm(grad_func(x))\n",
        "        \n",
        "        list_xs.append(x)\n",
        "        list_fx.append(func(x))\n",
        "        list_er.append(er)\n",
        "        i += 1\n",
        "\n",
        "    print(f'Exact line search')\n",
        "    if i == max_iter:\n",
        "        print(f'Number of iteration = {i}, oracle_calls = {oracle_calls}. Function does not converge!')\n",
        "        print(f'The current x = {list_xs[-1]}. \\nThe current f(x) = {list_fx[-1]}')\n",
        "    else:\n",
        "        print(f'Number of iteration = {i}, oracle_calls = {oracle_calls}')\n",
        "        print(f'The optimal x = {list_xs[-1]}. \\nThe optimal f(x) = {list_fx[-1]}')\n",
        "        \n",
        "        \n",
        "    return list_xs, list_fx, list_er, i, oracle_calls"
      ],
      "metadata": {
        "id": "ti6Alvz3vvxt"
      },
      "execution_count": 374,
      "outputs": []
    },
    {
      "cell_type": "code",
      "source": [
        "list_xs_E, list_fx_E, list_er_E, i_E, oracle_calls_E = exact_line_search(x0)"
      ],
      "metadata": {
        "colab": {
          "base_uri": "https://localhost:8080/"
        },
        "id": "2eeDJ-0f_U54",
        "outputId": "abdc18e0-bd6d-4d59-d98e-6f5bebe02351"
      },
      "execution_count": 375,
      "outputs": [
        {
          "output_type": "stream",
          "name": "stdout",
          "text": [
            "Exact line search\n",
            "Number of iteration = 4735, oracle_calls = 14207\n",
            "The optimal x = [ 4.56059881e-06 -3.34362112e-04  1.97163249e-03 -3.53462256e-03\n",
            "  1.92611495e-03]. \n",
            "The optimal f(x) = 1.401415648044141e-10\n"
          ]
        }
      ]
    },
    {
      "cell_type": "markdown",
      "source": [
        "### (4) Heavy ball method"
      ],
      "metadata": {
        "id": "ppCDIKUjv7Xl"
      }
    },
    {
      "cell_type": "markdown",
      "source": [
        "$$ x^{k+1} = x^k - α ∇f \\left( x^k \\right) + β \\left( x^k - x^{k-1} \\right) $$\n",
        "\n",
        "\n",
        "*   $ 0 ≤ β < 1, \\quad 0 < α < \\frac{2(1 + β)}{L} $\n",
        "*   $ α = \\frac{4}{( \\sqrt{L} + \\sqrt{m} )^2}, β = \\left(\\frac{\\sqrt{L} - \\sqrt{m}}{\\sqrt{L} + \\sqrt{m}} \\right)^{2} $ when $ μ $ is known\n",
        "\n",
        "Convergence rate (near minimum):\n",
        "$$ \\| x^{k+1} - x^* \\| ≈ c \\left( \\frac{\\sqrt{ϰ} - 1}{\\sqrt{ϰ} + 1} \\right)^k \\| x^0 - x^* \\| $$"
      ],
      "metadata": {
        "id": "lSHG3gbBzqVR"
      }
    },
    {
      "cell_type": "code",
      "source": [
        "# Heavy ball method\n",
        "def heavy_ball(x, tol = 1e-5, max_iter = 10000):\n",
        "    global oracle_calls\n",
        "    oracle_calls = 0\n",
        "\n",
        "    n = len(x)\n",
        "    A = hilbert_mat(n)\n",
        "    hessian = 2*A\n",
        "    eig_vals, _ = np.linalg.eig(hessian)\n",
        "    L = max(eig_vals)\n",
        "    m = min(eig_vals)\n",
        "    alpha = 4/(np.sqrt(L) + np.sqrt(m))**2\n",
        "    beta = ((np.sqrt(L) - np.sqrt(m))/(np.sqrt(L) + np.sqrt(m)))**2\n",
        "    \n",
        "    i = 0\n",
        "    er = np.linalg.norm(grad_func(x))\n",
        "    list_xs = [x]\n",
        "    list_fx = [func(x)]\n",
        "    list_er = [er]\n",
        "    \n",
        "    # 1st step\n",
        "    x_prev = x\n",
        "    x_curr = x_prev - alpha * grad_func(x_prev)\n",
        "    list_xs.append(x_curr)\n",
        "    list_fx.append(func(x_curr))\n",
        "    list_er.append(np.linalg.norm(grad_func(x_curr)))\n",
        "\n",
        "    # loop steps\n",
        "    while (i < max_iter) & (er >= tol):\n",
        "        dx = grad_func(x_curr)\n",
        "        delta_x = x_curr - x_prev\n",
        "\n",
        "        # update x\n",
        "        x_new = x_curr - alpha * dx + beta * delta_x\n",
        "        er = np.linalg.norm(grad_func(x_new))\n",
        "        \n",
        "        list_xs.append(x_new)\n",
        "        list_fx.append(func(x_new))\n",
        "        list_er.append(er)\n",
        "        i += 1\n",
        "\n",
        "        x_prev = x_curr\n",
        "        x_curr = x_new\n",
        "\n",
        "    print(f'Heavy ball method')\n",
        "    if i == max_iter:\n",
        "        print(f'Number of iteration = {i}, oracle_calls = {oracle_calls}. Function does not converge!')\n",
        "        print(f'The current x = {list_xs[-1]}. \\nThe current f(x) = {list_fx[-1]}')\n",
        "    else:\n",
        "        print(f'Number of iteration = {i}, oracle_calls = {oracle_calls}')\n",
        "        print(f'The optimal x = {list_xs[-1]}. \\nThe optimal f(x) = {list_fx[-1]}')\n",
        "        \n",
        "        \n",
        "    return list_xs, list_fx, list_er, i, oracle_calls"
      ],
      "metadata": {
        "id": "10OebtBMv-S0"
      },
      "execution_count": 376,
      "outputs": []
    },
    {
      "cell_type": "code",
      "source": [
        "list_xs_H, list_fx_H, list_er_H, i_H, oracle_calls_H = heavy_ball(x0)"
      ],
      "metadata": {
        "colab": {
          "base_uri": "https://localhost:8080/"
        },
        "id": "iTa9qPlmL4f2",
        "outputId": "2508a773-27c7-4753-ae71-14bceddc3d85"
      },
      "execution_count": 377,
      "outputs": [
        {
          "output_type": "stream",
          "name": "stdout",
          "text": [
            "Heavy ball method\n",
            "Number of iteration = 7946, oracle_calls = 23843\n",
            "The optimal x = [-2.44367169e-06 -1.41877687e-06 -1.02345931e-06 -8.06608992e-07\n",
            " -6.67777136e-07]. \n",
            "The optimal f(x) = 1.587182976965322e-11\n"
          ]
        }
      ]
    },
    {
      "cell_type": "markdown",
      "source": [
        "### (5) Conjugate gradient method"
      ],
      "metadata": {
        "id": "Q0ZAb2edwCN5"
      }
    },
    {
      "cell_type": "markdown",
      "source": [
        "For quadratic function, using simplified form :\n",
        "\n",
        "*   $ g^k = ∇f(x^k) = Ax^k - b$\n",
        "*   $ α_k = \\frac{\\|g^k\\|^2}{\\left( A p^k, p^k \\right)} $\n",
        "*   $ x^{k+1} = x^k + α_k p^k $\n",
        "*   $ g^{k+1} = g^k + α_k A p^k$\n",
        "*   $ β_k = \\frac{\\|g^{k+1}\\|^2}{\\|g^k\\|^2} $\n",
        "*   $ p^{k+1} = -g^{k+1} + β_k p^k $\n"
      ],
      "metadata": {
        "id": "CQP1A-kg3Lcj"
      }
    },
    {
      "cell_type": "code",
      "source": [
        "# Conjugate gradient method\n",
        "def conjugate_gradient(x, tol = 1e-5, max_iter = 10000):\n",
        "    global oracle_calls\n",
        "    oracle_calls = 0\n",
        "    \n",
        "    i = 0\n",
        "    er = np.linalg.norm(grad_func(x))\n",
        "    list_xs = [x]\n",
        "    list_fx = [func(x)]\n",
        "    list_er = [er]\n",
        "\n",
        "    # set gk and pk for the 1st step\n",
        "    xk = x\n",
        "    A = hilbert_mat(len(xk))\n",
        "    gk = np.dot(A, xk) \n",
        "    pk = -gk \n",
        "\n",
        "    # loop steps\n",
        "    while (i < max_iter) & (er >= tol):\n",
        "        # calculate alpha\n",
        "        apk = np.dot(A, pk) \n",
        "        alpha = np.linalg.norm(gk)**2 / np.dot(apk, pk)\n",
        "\n",
        "        # update x \n",
        "        xk = xk + alpha * pk\n",
        "\n",
        "        # update gk, beta, pk\n",
        "        gk_old = gk\n",
        "        gk = gk + alpha * apk \n",
        "        beta = np.linalg.norm(gk)**2 / np.linalg.norm(gk_old)**2\n",
        "        pk = -gk + beta * pk\n",
        "\n",
        "        list_xs.append(xk)\n",
        "        list_fx.append(func(xk))\n",
        "        er = np.linalg.norm(grad_func(xk))\n",
        "        list_er.append(er)\n",
        "        i += 1\n",
        "\n",
        "    print(f'Conjugate gradient method')\n",
        "    if i == max_iter:\n",
        "        print(f'Number of iteration = {i}, oracle_calls = {oracle_calls}. Function does not converge!')\n",
        "        print(f'The current x = {list_xs[-1]}. \\nThe current f(x) = {list_fx[-1]}')\n",
        "    else:\n",
        "        print(f'Number of iteration = {i}, oracle_calls = {oracle_calls}')\n",
        "        print(f'The optimal x = {list_xs[-1]}. \\nThe optimal f(x) = {list_fx[-1]}')\n",
        "        \n",
        "        \n",
        "    return list_xs, list_fx, list_er, i, oracle_calls"
      ],
      "metadata": {
        "id": "jKVeqAXi2oDu"
      },
      "execution_count": 378,
      "outputs": []
    },
    {
      "cell_type": "code",
      "source": [
        "list_xs_CG, list_fx_CG, list_er_CG, i_CG, oracle_calls_CG = conjugate_gradient(x0)"
      ],
      "metadata": {
        "id": "YgwLisDtwFQZ",
        "colab": {
          "base_uri": "https://localhost:8080/"
        },
        "outputId": "4b47ef20-0c31-4960-b5bc-11c8e2429d58"
      },
      "execution_count": 379,
      "outputs": [
        {
          "output_type": "stream",
          "name": "stdout",
          "text": [
            "Conjugate gradient method\n",
            "Number of iteration = 4, oracle_calls = 10\n",
            "The optimal x = [ 2.86922675e-05 -5.42321372e-04  2.35228156e-03 -3.56527430e-03\n",
            "  1.74845246e-03]. \n",
            "The optimal f(x) = 7.100753635271944e-11\n"
          ]
        }
      ]
    },
    {
      "cell_type": "markdown",
      "source": [
        "### (6) Fast gradient method"
      ],
      "metadata": {
        "id": "b9IQp_jowF0j"
      }
    },
    {
      "cell_type": "markdown",
      "source": [
        "Nesterov’s fast gradient method\n",
        "- $\\left\\{\\begin{array}{l}\\text { If } k \\geq 1: \\text { choose } \\theta_{k} \\in(0,1) \\text { so that } \\frac{\\left(1-\\theta_{k}\\right) t_{k}}{\\theta_{k}^{2}} \\leq \\frac{t_{k-1}}{\\theta_{k-1}^{2}} \\\\ y=\\left(1-\\theta_{k}\\right) x_{k}+\\theta_{k} v_{k} \\\\ x_{k+1}=y-t_{k} \\nabla f(y) \\\\ v_{k+1}=x_{k}+\\frac{1}{\\theta_{k}}\\left(x_{k+1}-x_{k}\\right)\\end{array}\\right.$\n",
        "- constant step size $t_{k}=t \\in(0,1 / L]$"
      ],
      "metadata": {
        "id": "cIUBZgD57lJX"
      }
    },
    {
      "cell_type": "code",
      "source": [
        "# Fast gradient method\n",
        "def fast_gradient(x, tol = 1e-5, max_iter = 10000):\n",
        "    global oracle_calls\n",
        "    oracle_calls = 0\n",
        "\n",
        "    i = 0\n",
        "    er = np.linalg.norm(grad_func(x))\n",
        "    list_xs = [x]\n",
        "    list_fx = [func(x)]\n",
        "    list_er = [er]\n",
        "  \n",
        "    # set initial xk, yk\n",
        "    xk = x\n",
        "    yk = xk\n",
        "\n",
        "    A = hilbert_mat(len(x))\n",
        "    hessian = 2*A\n",
        "    eig_vals, _ = np.linalg.eig(hessian)\n",
        "    L = max(eig_vals)\n",
        "    m = min(eig_vals)\n",
        "\n",
        "    # loop steps\n",
        "    while (i < max_iter) & (er >= tol):\n",
        "\n",
        "        xk_old = xk\n",
        "        xk = yk - (1/L) * grad_func(yk)\n",
        "        yk = xk + (np.sqrt(L) - np.sqrt(m))/(np.sqrt(L) + np.sqrt(m)) * (xk - xk_old)\n",
        "        \n",
        "        list_xs.append(xk)\n",
        "        list_fx.append(func(xk))\n",
        "        er = np.linalg.norm(grad_func(xk))\n",
        "        list_er.append(er)\n",
        "\n",
        "        i += 1\n",
        "\n",
        "    print(f'Fast gradient method')\n",
        "    if i == max_iter:\n",
        "        print(f'Number of iteration = {i}, oracle_calls = {oracle_calls}. Function does not converge!')\n",
        "        print(f'The current x = {list_xs[-1]}. \\nThe current f(x) = {list_fx[-1]}')\n",
        "    else:\n",
        "        print(f'Number of iteration = {i}, oracle_calls = {oracle_calls}')\n",
        "        print(f'The optimal x = {list_xs[-1]}. \\nThe optimal f(x) = {list_fx[-1]}')\n",
        "                \n",
        "    return list_xs, list_fx, list_er, i, oracle_calls"
      ],
      "metadata": {
        "id": "O3DPrpwh_skL"
      },
      "execution_count": 380,
      "outputs": []
    },
    {
      "cell_type": "code",
      "source": [
        "list_xs_F, list_fx_F, list_er_F, i_F, oracle_calls_F = fast_gradient(x0)"
      ],
      "metadata": {
        "colab": {
          "base_uri": "https://localhost:8080/"
        },
        "id": "Y2mFwq-UjUEM",
        "outputId": "e3097a8c-978b-4d02-a518-3cea646e1eed"
      },
      "execution_count": 381,
      "outputs": [
        {
          "output_type": "stream",
          "name": "stdout",
          "text": [
            "Fast gradient method\n",
            "Number of iteration = 570, oracle_calls = 1712\n",
            "The optimal x = [-8.38519288e-05  1.01871965e-04  1.50818029e-03 -3.14296204e-03\n",
            "  1.57525149e-03]. \n",
            "The optimal f(x) = 1.6226649036732028e-09\n"
          ]
        }
      ]
    },
    {
      "cell_type": "code",
      "source": [
        "# # # option 1 : Sequence tk instead of m\n",
        "# def fast_gradient(x, tol = 1e-5, max_iter = 10000):\n",
        "\n",
        "#     i = 0\n",
        "#     er = np.linalg.norm(grad_func(x))\n",
        "#     list_xs = [x]\n",
        "#     list_fx = [func(x)]\n",
        "#     list_er = [er]\n",
        "#     oracle_calls = 2      # when calculate function and gradient\n",
        "\n",
        "#     # set initial xk, yk\n",
        "#     xk = x\n",
        "#     yk = xk\n",
        "#     t = 1\n",
        "\n",
        "#     A = hilbert_mat(len(x))\n",
        "#     hessian = 2*A\n",
        "#     eig_vals, _ = np.linalg.eig(hessian)\n",
        "#     L = max(eig_vals)\n",
        "\n",
        "#     # loop steps\n",
        "#     while (i < max_iter) & (er >= tol):\n",
        "\n",
        "#         xk_old = xk\n",
        "#         xk = yk - (1/L) * grad_func(yk)\n",
        "#         t_old = t\n",
        "#         t = (1 + np.sqrt(1+4*t**2)) / 2\n",
        "#         yk = xk + ((t_old - 1)/(t)) * (xk - xk_old)\n",
        "        \n",
        "#         list_xs.append(xk)\n",
        "#         list_fx.append(func(xk))\n",
        "#         er = np.linalg.norm(grad_func(xk))\n",
        "#         list_er.append(er)\n",
        "\n",
        "#         i += 1\n",
        "#         oracle_calls += 2      # when calculate function and gradient\n",
        "\n",
        "#     print(f'Fast gradient method')\n",
        "#     if i == max_iter:\n",
        "#         print(f'Number of iteration = {i}, oracle_calls = {oracle_calls}. Function does not converge!')\n",
        "#         print(f'The current x = {list_xs[-1]}. \\nThe current f(x) = {list_fx[-1]}')\n",
        "#     else:\n",
        "#         print(f'Number of iteration = {i}, oracle_calls = {oracle_calls}')\n",
        "#         print(f'The optimal x = {list_xs[-1]}. \\nThe optimal f(x) = {list_fx[-1]}')\n",
        "                \n",
        "#     return list_xs, list_fx, list_er, i, oracle_calls\n",
        "\n",
        "# list_xs_F, list_fx_F, list_er_F, i_F, oracle_calls_F = fast_gradient(x0)"
      ],
      "metadata": {
        "id": "dU2B5q1hi7Hb"
      },
      "execution_count": 382,
      "outputs": []
    },
    {
      "cell_type": "markdown",
      "source": [
        "\n",
        "\n",
        "---\n",
        "\n",
        "\n",
        "\n",
        "## 3. For each method – please define the convergence type (linear or non-linear). Plot convergence plots for both the $log(\\|x\\|_2)$ and $log(\\|f\\|_2)$, evaluate $q$ for both cases, and compare your values with the theoretical expectations.\n",
        "\n",
        "\n",
        "\n",
        "\n"
      ],
      "metadata": {
        "id": "ZmA2lRro-sEI"
      }
    },
    {
      "cell_type": "code",
      "source": [
        "# theoretical expectations :\n",
        "q_theo = (L - m)/(L + m)\n",
        "q_theo\n",
        "\n",
        "# q ≈ 1 --> It's linear convergence."
      ],
      "metadata": {
        "colab": {
          "base_uri": "https://localhost:8080/"
        },
        "id": "Suz9W21AonPR",
        "outputId": "315c4e5c-c779-48b5-d2eb-dc9ee7d5beea"
      },
      "execution_count": 383,
      "outputs": [
        {
          "output_type": "execute_result",
          "data": {
            "text/plain": [
              "0.9999958036815373"
            ]
          },
          "metadata": {},
          "execution_count": 383
        }
      ]
    },
    {
      "cell_type": "code",
      "source": [
        "def transform_x(x):\n",
        "    list_xs_C_pt = []\n",
        "    for i in range(len(x)):\n",
        "        list_xs_C_pt.append(np.log10(np.linalg.norm(x[i], ord=2)))\n",
        "    return list_xs_C_pt\n",
        "\n",
        "def transform_y(x):\n",
        "    list_fx_C_pt = []\n",
        "    for i in range(len(x)):\n",
        "        list_fx_C_pt.append(np.log10(x[i]))\n",
        "    return list_fx_C_pt\n",
        "\n",
        "# (1) convergence type : linear\n",
        "plt_x = transform_x(list_xs_C)\n",
        "plt_f = transform_y(list_fx_C)\n",
        "k = np.arange(1, i_C+2)\n",
        "\n",
        "fig, axs = plt.subplots(1, 2, figsize = (20, 7))\n",
        "fig.suptitle('Gradient descent with a constant step size, γ = 1/L')\n",
        "\n",
        "axs[0].plot(k, plt_x)\n",
        "axs[0].set_xlabel('k')\n",
        "axs[0].set_ylabel('log(∥x∥_2)')\n",
        "\n",
        "axs[1].plot(k, plt_f)\n",
        "axs[1].set_xlabel('k')\n",
        "axs[1].set_ylabel('log(f)');\n",
        "\n",
        "slope_x, _ = np.polyfit(k[1000:4000], plt_x[1000:4000], 1) \n",
        "slope_f, _ = np.polyfit(k[1000:4000], plt_f[1000:4000], 1)  \n",
        "print(f'q = {np.exp(slope_x)}')\n",
        "print(f'q = {np.exp(slope_f)}')\n",
        "print('q is nearly to theoretical expectation')"
      ],
      "metadata": {
        "colab": {
          "base_uri": "https://localhost:8080/",
          "height": 545
        },
        "id": "3WPmn4AvqnC4",
        "outputId": "1249b874-e8f4-40ed-8162-12926dc4b7a1"
      },
      "execution_count": 391,
      "outputs": [
        {
          "output_type": "stream",
          "name": "stdout",
          "text": [
            "q = 0.9999178789630362\n",
            "q = 0.9998304871587934\n",
            "q is nearly to theoretical expectation\n"
          ]
        },
        {
          "output_type": "display_data",
          "data": {
            "text/plain": [
              "<Figure size 1440x504 with 2 Axes>"
            ],
            "image/png": "[encoded data removed]"
          },
          "metadata": {
            "needs_background": "light"
          }
        }
      ]
    },
    {
      "cell_type": "code",
      "source": [
        "# (2) convergence type : linear\n",
        "plt_x = transform_x(list_xs_A)\n",
        "plt_f = transform_y(list_fx_A)\n",
        "k = np.arange(1, i_A + 2)\n",
        "\n",
        "fig, axs = plt.subplots(1, 2, figsize = (20, 7))\n",
        "fig.suptitle('Gradient descent with a smaller step size (Armijo)')\n",
        "\n",
        "axs[0].plot(k, plt_x)\n",
        "axs[0].set_xlabel('k')\n",
        "axs[0].set_ylabel('log(∥x∥_2)')\n",
        "\n",
        "axs[1].plot(k, plt_f)\n",
        "axs[1].set_xlabel('k')\n",
        "axs[1].set_ylabel('log(f)');\n",
        "\n",
        "slope_x, _ = np.polyfit(k[500:2500], plt_x[500:2500], 1) \n",
        "slope_f, _ = np.polyfit(k[500:2500], plt_f[500:2500], 1)  \n",
        "print(f'q = {np.exp(slope_x)}')\n",
        "print(f'q = {np.exp(slope_f)}')\n",
        "print('q is nearly to theoretical expectation')"
      ],
      "metadata": {
        "colab": {
          "base_uri": "https://localhost:8080/",
          "height": 545
        },
        "id": "ePd7PbC5teUI",
        "outputId": "29c585aa-06f8-41d3-e37b-18aeef3d34e6"
      },
      "execution_count": 392,
      "outputs": [
        {
          "output_type": "stream",
          "name": "stdout",
          "text": [
            "q = 0.999818725307816\n",
            "q = 0.9996208251987256\n",
            "q is nearly to theoretical expectation\n"
          ]
        },
        {
          "output_type": "display_data",
          "data": {
            "text/plain": [
              "<Figure size 1440x504 with 2 Axes>"
            ],
            "image/png": "[encoded data removed]"
          },
          "metadata": {
            "needs_background": "light"
          }
        }
      ]
    },
    {
      "cell_type": "code",
      "source": [
        "# (3) convergence type : non-linear\n",
        "plt_x = transform_x(list_xs_E)\n",
        "plt_f = transform_y(list_fx_E)\n",
        "k = np.arange(1, i_E + 2)\n",
        "\n",
        "fig, axs = plt.subplots(1, 2, figsize = (20, 7))\n",
        "fig.suptitle('Exact line search')\n",
        "\n",
        "axs[0].plot(k, plt_x)\n",
        "axs[0].set_xlabel('k')\n",
        "axs[0].set_ylabel('log(∥x∥_2)')\n",
        "\n",
        "axs[1].plot(k, plt_f)\n",
        "axs[1].set_xlabel('k')\n",
        "axs[1].set_ylabel('log(f)');\n",
        "\n",
        "slope_x, _ = np.polyfit(k[500:2500], plt_x[500:2500], 1) \n",
        "slope_f, _ = np.polyfit(k[500:2500], plt_f[500:2500], 1)  \n",
        "print(f'q = {np.exp(slope_x)}')\n",
        "print(f'q = {np.exp(slope_f)}')\n",
        "print('q is nearly to theoretical expectation')"
      ],
      "metadata": {
        "colab": {
          "base_uri": "https://localhost:8080/",
          "height": 545
        },
        "id": "2BnmxvoStiyz",
        "outputId": "2aef4c27-e734-4f2e-cd98-4c00431b2e64"
      },
      "execution_count": 393,
      "outputs": [
        {
          "output_type": "stream",
          "name": "stdout",
          "text": [
            "q = 0.9996652454975956\n",
            "q = 0.9991609904716037\n",
            "q is nearly to theoretical expectation\n"
          ]
        },
        {
          "output_type": "display_data",
          "data": {
            "text/plain": [
              "<Figure size 1440x504 with 2 Axes>"
            ],
            "image/png": "[encoded data removed]"
          },
          "metadata": {
            "needs_background": "light"
          }
        }
      ]
    },
    {
      "cell_type": "code",
      "source": [
        "# (4) convergence type : non-linear\n",
        "plt_x = transform_x(list_xs_H)\n",
        "plt_f = transform_y(list_fx_H)\n",
        "k = np.arange(1, i_H + 3)\n",
        "\n",
        "fig, axs = plt.subplots(1, 2, figsize = (20, 7))\n",
        "fig.suptitle('Heavy ball method')\n",
        "\n",
        "axs[0].plot(k, plt_x)\n",
        "axs[0].set_xlabel('k')\n",
        "axs[0].set_ylabel('log(∥x∥_2)')\n",
        "\n",
        "axs[1].plot(k, plt_f)\n",
        "axs[1].set_xlabel('k')\n",
        "axs[1].set_ylabel('log(f)');\n",
        "\n",
        "slope_x, _ = np.polyfit(k[1000:7000], plt_x[1000:7000], 1) \n",
        "slope_f, _ = np.polyfit(k[1000:7000], plt_f[1000:7000], 1)  \n",
        "print(f'q = {np.exp(slope_x)}')\n",
        "print(f'q = {np.exp(slope_f)}')\n",
        "print('q is nearly to theoretical expectation')"
      ],
      "metadata": {
        "colab": {
          "base_uri": "https://localhost:8080/",
          "height": 545
        },
        "id": "wrlUB7xYti2e",
        "outputId": "0709c56f-949f-4a84-90e3-7b864b0441db"
      },
      "execution_count": 394,
      "outputs": [
        {
          "output_type": "stream",
          "name": "stdout",
          "text": [
            "q = 0.9988676911418646\n",
            "q = 0.997736664408205\n",
            "q is nearly to theoretical expectation\n"
          ]
        },
        {
          "output_type": "display_data",
          "data": {
            "text/plain": [
              "<Figure size 1440x504 with 2 Axes>"
            ],
            "image/png": "[encoded data removed]"
          },
          "metadata": {
            "needs_background": "light"
          }
        }
      ]
    },
    {
      "cell_type": "code",
      "source": [
        "# (5) convergence type : non-linear\n",
        "plt_x = transform_x(list_xs_CG)\n",
        "plt_f = transform_y(list_fx_CG)\n",
        "k = np.arange(1, i_CG + 2)\n",
        "\n",
        "fig, axs = plt.subplots(1, 2, figsize = (20, 7))\n",
        "fig.suptitle('Conjugate gradient method')\n",
        "\n",
        "axs[0].plot(k, plt_x)\n",
        "axs[0].set_xlabel('k')\n",
        "axs[0].set_ylabel('log(∥x∥_2)')\n",
        "\n",
        "axs[1].plot(k, plt_f)\n",
        "axs[1].set_xlabel('k')\n",
        "axs[1].set_ylabel('log(f)');\n",
        "\n",
        "slope_x, _ = np.polyfit(k[2:4], plt_x[2:4], 1) \n",
        "slope_f, _ = np.polyfit(k[2:4], plt_f[2:4], 1)  \n",
        "print(f'q = {np.exp(slope_x)}')\n",
        "print(f'q = {np.exp(slope_f)}')\n",
        "print('q is not nearly to theoretical expectation')"
      ],
      "metadata": {
        "colab": {
          "base_uri": "https://localhost:8080/",
          "height": 545
        },
        "id": "tVk_7wGhti5t",
        "outputId": "db231aed-f0dc-4b86-86ad-e3f06e93b1d5"
      },
      "execution_count": 395,
      "outputs": [
        {
          "output_type": "stream",
          "name": "stdout",
          "text": [
            "q = 0.47376919113104166\n",
            "q = 0.047046799759469855\n",
            "q is not nearly to theoretical expectation\n"
          ]
        },
        {
          "output_type": "display_data",
          "data": {
            "text/plain": [
              "<Figure size 1440x504 with 2 Axes>"
            ],
            "image/png": "[encoded data removed]"
          },
          "metadata": {
            "needs_background": "light"
          }
        }
      ]
    },
    {
      "cell_type": "code",
      "source": [
        "# (6) convergence type : non-linear\n",
        "plt_x = transform_x(list_xs_F)\n",
        "plt_f = transform_y(list_fx_F)\n",
        "k = np.arange(1, i_F + 2)\n",
        "\n",
        "fig, axs = plt.subplots(1, 2, figsize = (20, 7))\n",
        "fig.suptitle('Fast gradient method')\n",
        "\n",
        "axs[0].plot(k, plt_x)\n",
        "axs[0].set_xlabel('k')\n",
        "axs[0].set_ylabel('log(∥x∥_2)')\n",
        "\n",
        "axs[1].plot(k, plt_f)\n",
        "axs[1].set_xlabel('k')\n",
        "axs[1].set_ylabel('log(f)');\n",
        "\n",
        "slope_x, _ = np.polyfit(k[100:400], plt_x[100:400], 1) \n",
        "slope_f, _ = np.polyfit(k[100:400], plt_f[100:400], 1)  \n",
        "print(f'q = {np.exp(slope_x)}')\n",
        "print(f'q = {np.exp(slope_f)}')\n",
        "print('q is not nearly to theoretical expectation')"
      ],
      "metadata": {
        "colab": {
          "base_uri": "https://localhost:8080/",
          "height": 545
        },
        "id": "PJd4zE8Hti9J",
        "outputId": "a25507c3-c7f5-4365-d243-a0bd263bb971"
      },
      "execution_count": 396,
      "outputs": [
        {
          "output_type": "stream",
          "name": "stdout",
          "text": [
            "q = 0.9978466548557262\n",
            "q = 0.9951919765288348\n",
            "q is not nearly to theoretical expectation\n"
          ]
        },
        {
          "output_type": "display_data",
          "data": {
            "text/plain": [
              "<Figure size 1440x504 with 2 Axes>"
            ],
            "image/png": "[encoded data removed]"
          },
          "metadata": {
            "needs_background": "light"
          }
        }
      ]
    },
    {
      "cell_type": "markdown",
      "source": [
        "\n",
        "\n",
        "---\n",
        "\n",
        "\n",
        "## 4. How many iterations and Oracle calls does it take to converge with the given accuracy ($10^{−5} − 10^{−6}$ for both $x$ and $f$)?"
      ],
      "metadata": {
        "id": "wgJBmNM5-sHT"
      }
    },
    {
      "cell_type": "code",
      "source": [
        "print(f'Gradient descent with a constant step size, γ = 1/L')\n",
        "print(f'Iterations = {i_C}, Oracle calls = {oracle_calls_C}\\n')\n",
        "\n",
        "print(f'Gradient descent with a smaller step size (Armijo)')\n",
        "print(f'Iterations = {i_A}, Oracle calls = {oracle_calls_A}\\n')\n",
        "\n",
        "print(f'Exact line search')\n",
        "print(f'Iterations = {i_E}, Oracle calls = {oracle_calls_E}\\n')\n",
        "\n",
        "print(f'Heavy ball method')\n",
        "print(f'Iterations = {i_H}, Oracle calls = {oracle_calls_H}\\n')\n",
        "\n",
        "print(f'Conjugate gradient method')\n",
        "print(f'Iterations = {i_CG}, Oracle calls = {oracle_calls_CG}\\n')\n",
        "\n",
        "print(f'Fast gradient method')\n",
        "print(f'Iterations = {i_F}, Oracle calls = {oracle_calls_F}\\n')"
      ],
      "metadata": {
        "id": "t_iovkxxvQFR",
        "colab": {
          "base_uri": "https://localhost:8080/"
        },
        "outputId": "d8b45fd9-760b-4c49-a26b-45d818afb460"
      },
      "execution_count": 397,
      "outputs": [
        {
          "output_type": "stream",
          "name": "stdout",
          "text": [
            "Gradient descent with a constant step size, γ = 1/L\n",
            "Iterations = 4923, Oracle calls = 14771\n",
            "\n",
            "Gradient descent with a smaller step size (Armijo)\n",
            "Iterations = 2849, Oracle calls = 27283\n",
            "\n",
            "Exact line search\n",
            "Iterations = 4735, Oracle calls = 14207\n",
            "\n",
            "Heavy ball method\n",
            "Iterations = 7946, Oracle calls = 23843\n",
            "\n",
            "Conjugate gradient method\n",
            "Iterations = 4, Oracle calls = 10\n",
            "\n",
            "Fast gradient method\n",
            "Iterations = 570, Oracle calls = 1712\n",
            "\n"
          ]
        }
      ]
    },
    {
      "cell_type": "code",
      "source": [],
      "metadata": {
        "id": "xwjvnaEwpzv8"
      },
      "execution_count": 390,
      "outputs": []
    }
  ]
}