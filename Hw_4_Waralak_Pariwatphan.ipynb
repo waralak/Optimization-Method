{
  "nbformat": 4,
  "nbformat_minor": 0,
  "metadata": {
    "colab": {
      "provenance": [],
      "collapsed_sections": [
        "3ls8uTQ4Bu3V",
        "57WmA0IZBwRF",
        "3nhNvOc2BwYJ",
        "xuyfxrclBwe_",
        "fS5CPT8gD9XL",
        "eMARG3B1FIIF"
      ]
    },
    "kernelspec": {
      "name": "python3",
      "display_name": "Python 3"
    },
    "language_info": {
      "name": "python"
    }
  },
  "cells": [
    {
      "cell_type": "markdown",
      "source": [
        "# Question 1 (4 points)"
      ],
      "metadata": {
        "id": "3ls8uTQ4Bu3V"
      }
    },
    {
      "cell_type": "markdown",
      "source": [
        "Solve the following \"projection on a Euclidean ball\" problem via the dual function. The $ c,z ∈ ℝ^n $ and $ r > 0 $ are parameters.\n",
        "\n",
        "$$ \\min_{x ∈ ℝ^n : \\| x−c \\| ≤ r} \\| z − x \\| _{2} $$\n",
        "\n",
        "Hint: make the target function differentiable and  rewrite constraints in a more convenient form.\n",
        "\n",
        "\n",
        "---\n",
        "\n"
      ],
      "metadata": {
        "id": "nn4t_InGBwL9"
      }
    },
    {
      "cell_type": "markdown",
      "source": [
        "Solving: $ \\quad \\min_{\\| x - c \\| _2^2 ≤ r^2} \\| x - z \\| _2^2 \\quad $ is similar to the above problem.\n",
        "\n",
        "Using Lagrange method: \n",
        "$$ L(x, λ) = \\| x - z \\| _2^2 + λ (\\| x - c \\| _2^2 - r^2 ) $$\n",
        "\n",
        "Solve: find optimal x\n",
        "\n",
        "\\begin{aligned} \n",
        "∇_x L(x, λ) &= 2(x − z) + 2λ(x − c)  \\\\\n",
        "0 &= 2x − 2z + 2λx − 2λc  \\\\\n",
        "x^* &= \\frac{z + λc}{1 + λ}  \\\\\n",
        "∇_x^2 L(x, λ) &= 2 + 2λ ≻ 0 \\quad ;λ ≥ 0  \\\\\n",
        "\\end{aligned}\n",
        "\n",
        "Dual function: \n",
        "\n",
        "\\begin{aligned} \n",
        "d(λ) \n",
        "&= \\inf_x L(x, λ)  \\\\\n",
        "&= \\frac{λ}{1 + λ} \\| z - c \\| _2^2 - λ r^2 \\quad ;λ ≥ 0  \\\\\n",
        "\\end{aligned}\n",
        "\n",
        "\n",
        "Solve: find optimal λ\n",
        "\n",
        "\\begin{aligned}\n",
        "∇_λ d(λ) &= \\frac{1}{(1 + λ)^2} \\|z - c\\| _2^2 - r^2  \\\\\n",
        "0 &= \\frac{1}{(1 + λ)^2} \\|z - c\\| _2^2 - r^2  \\\\\n",
        "λ^* &= \\frac{ \\|z - c\\| _2 }{r} - 1  \\\\\n",
        "∇_λ^2 d(λ) &= \\frac{-2}{(1 + λ)^3} \\|z - c\\| _2^2  \\quad < 0 \\text{ ; for being maximum function} \\\\\n",
        "\\end{aligned} \n",
        "\n",
        "So that:\n",
        "\n",
        "\\begin{aligned}\n",
        "x^* &= \\frac{ z + \\left( \\frac{ \\|z - c\\| _2 }{r} - 1 \\right) c }{1 + \\frac{ \\|z - c\\| _2 }{r} - 1 }  \\\\\n",
        "&= c + \\frac{r}{\\|z - c\\| _2} (z - c)\n",
        "\\end{aligned}\n",
        "\n",
        "\n",
        "\n",
        "---\n",
        "\n"
      ],
      "metadata": {
        "id": "VZCmMO26BwOm"
      }
    },
    {
      "cell_type": "markdown",
      "source": [
        "# Question 2 (4 points)"
      ],
      "metadata": {
        "id": "57WmA0IZBwRF"
      }
    },
    {
      "cell_type": "markdown",
      "source": [
        "Find projection of a point to the hyperplane $ Q = {(a, x) = b}, a \\neq 0 $ via solving the dual problem,\n",
        "with projection defined as the closest point on the set\n",
        "\n",
        "$$ \\textbf{Proj}_Q(z) = \\min_{x ∈ Q} \\|x − z\\| _2 $$\n",
        "\n",
        "i.e. solve\n",
        "\n",
        "$$ \\min_{(a,x)=b} \\| x − z \\| _2 $$\n",
        "\n",
        "\n",
        "\n",
        "---\n",
        "\n"
      ],
      "metadata": {
        "id": "hDnbAYPnBwTg"
      }
    },
    {
      "cell_type": "markdown",
      "source": [
        "Solving: $ \\quad \\min_{(a, x) = b} \\| x − z \\| _2^2 \\quad $ is similar to the above problem.\n",
        "\n",
        "Using Lagrange method:\n",
        "$$ L(x,λ) = \\| x - z \\| _2^2 + λ ((a,x) - b) $$\n",
        "\n",
        "Solve: find optimal x\n",
        "\n",
        "\\begin{aligned} \n",
        "∇_x L(x, λ) &= 2(x − z) + λa  \\\\\n",
        "0 &= 2x − 2z + λa  \\\\\n",
        "x^* &= \\frac{2z - λa}{2}  \\\\\n",
        "∇_x^2 L(x, λ) &= 2 ≻ 0 \\quad \\text{ ; satisfied!}  \\\\\n",
        "\\end{aligned}\n",
        "\n",
        "Dual function: \n",
        "\n",
        "\\begin{aligned} \n",
        "d(λ) \n",
        "&= \\inf_x L(x, λ)  \\\\\n",
        "&= λ ((a,z) - b) - \\frac{λ^2}{4} \\|a\\|^2\n",
        "\\end{aligned}\n",
        "\n",
        "\n",
        "Solve: find optimal λ\n",
        "\n",
        "\\begin{aligned}\n",
        "∇_λ d(λ) &= ((a,z) - b) - \\frac{λ}{2} \\|a\\|^2  \\\\\n",
        "0 &= ((a,z) - b) - \\frac{λ}{2} \\|a\\|^2  \\\\\n",
        "λ^* &= \\frac{2 ((a,z) - b)}{\\|a\\|^2}  \\\\\n",
        "∇_λ^2 d(λ) &= - \\frac{\\|a\\|^2}{2} \\quad < 0 \\text{ ; for being maximum function} \\\\\n",
        "\\end{aligned}\n",
        "\n",
        "So that:\n",
        "\n",
        "\\begin{aligned}\n",
        "x^* &= \\frac{ 2z - \\left( \\frac{2 ((a,z) - b)}{\\|a\\|^2}  \\right) a }{2}  \\\\\n",
        "&= z - \\frac{(a,z) - b}{(a,a)} a\n",
        "\\end{aligned}\n",
        "\n",
        "\n",
        "\n",
        "---\n",
        "\n"
      ],
      "metadata": {
        "id": "-oVai9D-BwWI"
      }
    },
    {
      "cell_type": "markdown",
      "source": [
        "# Question 3 (4 points)"
      ],
      "metadata": {
        "id": "3nhNvOc2BwYJ"
      }
    },
    {
      "cell_type": "markdown",
      "source": [
        "Write down the dual function and its domain for the constrained optimization problem $ (f : ℝ^n → ℝ, A ∈ ℝ^{m×n}, b ∈ ℝ^m) $\n",
        "\n",
        "$$ \\min_{Ax=b} f(x) $$\n",
        "\n",
        "via the conjugate function $ f^∗(y) = \\sup _{x ∈ ℝ^n} ((x, y) − f(x)) $\n",
        "\n",
        "\n",
        "\n",
        "---\n",
        "\n"
      ],
      "metadata": {
        "id": "3zQ9jac0Bwak"
      }
    },
    {
      "cell_type": "markdown",
      "source": [
        "Using Lagrange method:\n",
        "$$ L(x,λ) = f(x) + (λ, Ax - b) $$\n",
        "\n",
        "Using conjugate function property:\n",
        "\n",
        "\\begin{aligned} \n",
        "d(λ) \n",
        "&= \\inf_x (f(x) +(λ, Ax - b) )  \\\\\n",
        "&= - \\sup_x (-(λ, Ax-b) - f(x))  \\\\\n",
        "&= - \\sup_x((-A^T λ, x) - f(x)) - (λ, b)  \\\\\n",
        "d(λ) &= -f^*(-A^T λ) - (λ, b)\n",
        "\\end{aligned}\n",
        "\n",
        "Its domain is:\n",
        "\n",
        "$$ \\text{dom } d = \\left\\{ λ | -A^{T} λ ∈ \\text{dom } f^{*}\\right\\} $$\n",
        "\n",
        "\n",
        "---\n",
        "\n"
      ],
      "metadata": {
        "id": "St3NgPrcBwc1"
      }
    },
    {
      "cell_type": "markdown",
      "source": [
        "# Question 4 (4 points)"
      ],
      "metadata": {
        "id": "xuyfxrclBwe_"
      }
    },
    {
      "cell_type": "markdown",
      "source": [
        "Derive (Lagrange) dual function $ d(·) $, and write down the dual problem for the following primal problem:\n",
        "\n",
        "$$ \\min_{(Ax,x)≤1}(c, x), $$\n",
        "\n",
        "where $ x, c ∈ ℝ^n, c \\neq 0, A ∈ 𝕊^n, A ≻ 0 $.\n",
        "\n",
        "\n",
        "---\n",
        "\n"
      ],
      "metadata": {
        "id": "RFt8MLrIBwhm"
      }
    },
    {
      "cell_type": "markdown",
      "source": [
        "Using Lagrange method:\n",
        "$$ L(x,λ) = (c, x) + λ((Ax, x) - 1) $$\n",
        "\n",
        "Solve: find optimal λ\n",
        "\n",
        "\\begin{aligned}\n",
        "∇_x L(x,λ) &= c + λ (A + A^T) x  \\\\\n",
        "0 &= c + 2λAx  \\quad \\text{; since } A = A^T ; A ≻ 0  \\\\\n",
        "x^* &= \\frac{-A^{-1}c}{2λ}  \\\\\n",
        "∇_λ^2 d(λ) &= 2λA ≻ 0 \\quad ; λ ≥ 0 \\\\\n",
        "\\end{aligned}\n",
        "\n",
        "So that: \n",
        "\n",
        "*  dual function is \n",
        "    $\\quad d(λ) = - \\frac{1}{4λ} (c, A^{-1} c) - λ \\quad ; λ ≥ 0 $\n",
        "\n",
        "*  dual problem is\n",
        "    <br> $\\max d(λ)$\n",
        "    <br> subject to $λ ≥ 0$\n",
        "\n",
        "\n",
        "---\n",
        "\n"
      ],
      "metadata": {
        "id": "bAEwxc2kawNv"
      }
    },
    {
      "cell_type": "markdown",
      "source": [
        "# Question 5 (6 points)"
      ],
      "metadata": {
        "id": "fS5CPT8gD9XL"
      }
    },
    {
      "cell_type": "markdown",
      "source": [
        "Consider the optimization problem:\n",
        "$$ \\min x^2 + 1, $$\n",
        "$$ \\text{subject to } (x − 2)(x − 4) ≤ 0 $$\n",
        "with a variable $ x ∈ ℝ $."
      ],
      "metadata": {
        "id": "D6LCRFLqD9aQ"
      }
    },
    {
      "cell_type": "markdown",
      "source": [
        "1. Analysis of the primal problem: give the feasible set, the optimal solution $x^∗$, and the optimal\n",
        "value $p^∗$.\n",
        "\n",
        "\n",
        "---\n",
        "\n"
      ],
      "metadata": {
        "id": "DgCvROZjD9dD"
      }
    },
    {
      "cell_type": "markdown",
      "source": [
        "According to the feasible region $ 2 ≤ x ≤ 4 $,\n",
        "\n",
        "using Lagrange method: \n",
        "$$ \\quad L(x, λ) = x^2 + 1 + λ(x-2)(x-4) $$\n",
        "\n",
        "Solve: find optimal x\n",
        "\n",
        "\\begin{aligned}\n",
        "∇_x L(x, λ) &= 2x + 2λx -6λ  \\\\\n",
        "0 &= 2x + 2λx -6λ  \\\\\n",
        "x^* &= \\frac{3λ}{1 + λ}  \\\\\n",
        "∇_x^2 L(x, λ) &= 2+2λ ≻ 0 \\quad ; λ ≥ 0  \\\\\n",
        "∇_λ L(x, λ) &= (x-2)(x-4)  \\\\\n",
        "x &= 2 \\text{ or } 4 \\quad \\text{check value of function!}  \\\\\n",
        "\\end{aligned}\n",
        "\n",
        "$$ f(2) = 5 $$\n",
        "$$ f(4) = 17 $$\n",
        "$$ f(2) ≤ f(4) $$\n",
        "\n",
        "So that: optimal solution $ x^* = 2 $ and optimal value $ p^* = 5 $\n",
        "\n",
        "\n",
        "---\n",
        "\n",
        "\n"
      ],
      "metadata": {
        "id": "_R6UwKTfoluC"
      }
    },
    {
      "cell_type": "markdown",
      "source": [
        "2. Lagrangian and the dual function: Plot the objective $x^2 + 1$ versus $x$. On the same plot,\n",
        "show the feasible set, optimal point and value, and plot the Lagrangian $L(x, λ)$ versus $x$ for\n",
        "a few positive values of $λ$. Verify the lower bound property $(p^∗ ≥ inf_x$ $L(x, λ)$ for $λ ≥ 0)$. Derive and sketch the Lagrange dual function $g$.\n",
        "\n",
        "\n",
        "3. State the dual problem, and verify that it is a concave maximization problem. Find the dual\n",
        "optimal solution $λ^∗$ and the dual optimal value $d^∗$. Does strong duality hold?\n",
        "\n",
        "\n",
        "\n",
        "---\n",
        "\n"
      ],
      "metadata": {
        "id": "sCzpDxRZD9gA"
      }
    },
    {
      "cell_type": "markdown",
      "source": [
        "**Solution for 2 and 3**"
      ],
      "metadata": {
        "id": "o0_7yvwGrofa"
      }
    },
    {
      "cell_type": "markdown",
      "source": [
        "Lagrange function:\n",
        "$$ \\quad L(x, λ) = x^2 + 1 + λ(x-2)(x-4) $$\n",
        "\n",
        "Solve: find optimal x\n",
        "\n",
        "\\begin{aligned}\n",
        "∇_x L(x, λ) &= 2x + 2λx -6λ  \\\\\n",
        "0 &= 2x + 2λx -6λ  \\\\\n",
        "x^* &= \\frac{3λ}{1 + λ}  \\\\\n",
        "∇_x^2 L(x, λ) &= 2+2λ ≻ 0 \\quad ; λ ≥ 0  \\\\\n",
        "\\end{aligned}\n",
        "\n",
        " \n",
        "Dual function: \n",
        "\n",
        "\\begin{aligned} \n",
        "d(λ) \n",
        "&= \\inf_x L(x, λ)  \\\\\n",
        "&= \\frac{-λ^2 +9λ +1}{1+λ}\n",
        "\\end{aligned}\n",
        "\n",
        "For $ λ > -1 $, the Lagrangian reaches the minimum at $ x^* = \\frac{3λ}{1+λ} $.\n",
        "\n",
        "$$\n",
        "d(λ) = \\left\\{\n",
        "    \\begin{array}{ll}\n",
        "    \\frac{-λ^2 +9λ +1}{1+λ} & λ > -1  \\\\\n",
        "    - ∞ & λ ≤ -1\n",
        "    \\end{array}\\right.\n",
        "$$\n",
        "\n",
        "Solve: find optimal λ\n",
        "\n",
        "\\begin{aligned}\n",
        "∇_λ d(λ) &= \\frac{-λ^2-2λ+8}{(1+λ)^2}  \\\\\n",
        "0 &= \\frac{-λ^2-2λ+8}{(1+λ)^2}  \\\\\n",
        "λ^* &= 2 \\text{ or } -4 \\quad ; λ \\neq -1; \\quad λ ≥ 0  \\\\\n",
        "∇_λ^2 d(λ) &= \\frac{-18}{(1+λ)^2} \\quad < 0 \\text{ ; for being maximum function (concave maximization problem)} \\\\\n",
        "\\end{aligned}\n",
        "\n",
        "So that:\n",
        "\n",
        "$$ \\text{We choose } λ = 2 \\text{; since } λ ≥ 0 $$\n",
        "$$ x^* = 2 $$\n",
        "$$ p^* = f(x^*) = 5 $$\n",
        "$$ d^* = d(λ^*) = 5 $$\n",
        "$$ p^* = d^* = 5 \\quad \\text{This holds strong duality!} $$\n",
        "\n",
        "\n",
        "\n"
      ],
      "metadata": {
        "id": "9dfdiNFexPfQ"
      }
    },
    {
      "cell_type": "code",
      "source": [
        "import numpy as np\n",
        "import matplotlib.pyplot as plt \n",
        "import warnings\n",
        "warnings.filterwarnings('ignore')\n",
        "\n",
        "def lagrangian(x, lamb_da):\n",
        "    return x**2 + 1 + lamb_da * (x - 2) * (x - 4)\n",
        "\n",
        "def dual_func(lamb_da):\n",
        "    return (-lamb_da**2 + 9*lamb_da + 1)/(1 + lamb_da)"
      ],
      "metadata": {
        "id": "3wG_mYkf9btH"
      },
      "execution_count": 1,
      "outputs": []
    },
    {
      "cell_type": "code",
      "source": [
        "# define x\n",
        "x = np.arange(-4, 10, 0.1)\n",
        "\n",
        "# define y, \n",
        "y = x**2 + 1   # objective function\n",
        "y_1 = lagrangian(x, 1)\n",
        "y_2 = lagrangian(x, 2)\n",
        "y_3 = lagrangian(x, 3)\n",
        "y_4 = lagrangian(x, 4)\n",
        "y_5 = lagrangian(x, 5)\n",
        "\n",
        "# ----------------------------------------------------------------------------------------------\n",
        "\n",
        "plt.figure(figsize = (9, 9))\n",
        "\n",
        "# plot objective function\n",
        "plt.plot(x, y, label = r\"$f(x)=x^2+1$\", linewidth = 4 )\n",
        "\n",
        "# plot feasibility set\n",
        "plt.axvspan(2, 4, alpha = 0.5, fc = 'limegreen', label = \"Feasible set\")\n",
        "\n",
        "# plot optimal point and value\n",
        "plt.plot(2, 5, 'ro', markersize = 10, label = \"Optimal point x = 2, value = 5\")\n",
        "plt.text(1, 25, r\"$x^*=2$, value=5\",  fontsize = 12, bbox = dict(facecolor = 'red', alpha = 0.2))\n",
        "\n",
        "# plot Lagrangian\n",
        "plt.plot(x, y_1, linestyle = 'dashed', label = r\"$L(x,1) = x^{2}+1+1(𝑥-2)(x-4)$\")\n",
        "plt.plot(x, y_2, linestyle = 'dashed', label = r\"$L(x,2) = x^{2}+1+2(𝑥-2)(x-4)$\")\n",
        "plt.plot(x, y_3, linestyle = 'dashed', label = r\"$L(x,3) = x^{2}+1+3(𝑥-2)(x-4)$\")\n",
        "plt.plot(x, y_4, linestyle = 'dashed', label = r\"$L(x,4) = x^{2}+1+4(𝑥-2)(x-4)$\")\n",
        "plt.plot(x, y_5, linestyle = 'dashed', label = r\"$L(x,5) = x^{2}+1+5(𝑥-2)(x-4)$\")\n",
        "\n",
        "plt.title(r\"$ f(x) = x^2+1 \\,\\,subject\\,\\,to\\,(x-2)(x-4) \\leq 0 $\", fontsize = 16)\n",
        "plt.xlabel(r\"$x$\", fontsize = 14)\n",
        "plt.legend(loc = 'upper right');\n"
      ],
      "metadata": {
        "id": "oAkUZQEKshsB",
        "colab": {
          "base_uri": "https://localhost:8080/",
          "height": 578
        },
        "outputId": "2dfbe988-ecc4-4fa7-cc4e-581e759db287"
      },
      "execution_count": 2,
      "outputs": [
        {
          "output_type": "display_data",
          "data": {
            "text/plain": [
              "<Figure size 648x648 with 1 Axes>"
            ],
            "image/png": "[encoded data removed]"
          },
          "metadata": {
            "needs_background": "light"
          }
        }
      ]
    },
    {
      "cell_type": "code",
      "source": [
        "# define lambda\n",
        "lamb = np.arange(0, 5.01, 0.01)\n",
        "\n",
        "# define d(lambda)\n",
        "d = dual_func(lamb)\n",
        "\n",
        "# plot Langrange dual function\n",
        "plt.figure(figsize = (9, 9))\n",
        "plt.plot(lamb, d)\n",
        "plt.plot(2, 5, 'ro', markersize = 10, label = \"Optimal point x = 2, value = 5\")\n",
        "plt.text(1.5, 4.7, \"Optimal point x=2, value=5\", fontsize = 12, bbox = dict(facecolor = 'red', alpha = 0.2))\n",
        "\n",
        "plt.title(r\"$d(λ) = \\frac{-λ^2 + 9λ + 1}{1 + λ}$\", fontsize = 16)\n",
        "plt.xlabel(r\"λ\", fontsize = 14)\n",
        "plt.ylabel(r\"d(λ)\", fontsize = 14);\n",
        "\n",
        "print(f'This d(λ) plot shows that this problem is a concave maximization problem.')"
      ],
      "metadata": {
        "id": "sKsMyjXKshur",
        "colab": {
          "base_uri": "https://localhost:8080/",
          "height": 602
        },
        "outputId": "aa9de5b5-bf69-443d-ebb6-ed6dd6fd1a6d"
      },
      "execution_count": 3,
      "outputs": [
        {
          "output_type": "stream",
          "name": "stdout",
          "text": [
            "This d(λ) plot shows that this problem is a concave maximization problem.\n"
          ]
        },
        {
          "output_type": "display_data",
          "data": {
            "text/plain": [
              "<Figure size 648x648 with 1 Axes>"
            ],
            "image/png": "[encoded data removed]"
          },
          "metadata": {
            "needs_background": "light"
          }
        }
      ]
    },
    {
      "cell_type": "markdown",
      "source": [
        "# Question 6 (4 points)"
      ],
      "metadata": {
        "id": "eMARG3B1FIIF"
      }
    },
    {
      "cell_type": "markdown",
      "source": [
        "Solve the problem using the gradient with projection method:\n",
        "\n",
        "$$ \\min (c, x) $$\n",
        "$$ \\text{s.t. } (a_i, x) ≤ b_i, $$\n",
        "\n",
        "where $ A ∈ ℝ^{(n+1)×n}, b ∈ ℝ^{n+1}, x ∈ ℝ^n, $ with $ i = 1, ..., 101; n = 100. $\n",
        "\n",
        "$$\n",
        "A = \n",
        "\\begin{bmatrix}\n",
        "-1 & 0  & 0 & ⋯ & 0 \\\\\n",
        "0  & -1 & 0 & ⋯ & 0 \\\\\n",
        "⋯  & ⋯  & ⋯ & ⋯ & ⋯ \\\\\n",
        "0  & 0 & 0 & ⋯ & -1\\\\\n",
        "1 & 1 & 1 & ⋯ & 1\\\\\n",
        "\\end{bmatrix} ,\n",
        "$$\n",
        "$ b = [0, 0, 0, ⋯, 1]^T , c = [1, 1, 1, ⋯, 1]^T. $ \n",
        "\n",
        "\n",
        "\n",
        "---\n",
        "\n"
      ],
      "metadata": {
        "id": "OWUMnVNEFILN"
      }
    },
    {
      "cell_type": "markdown",
      "source": [
        "$$ \\min c^T x $$\n",
        "$$ \\text{s.t. } Ax ≤ b $$"
      ],
      "metadata": {
        "id": "T_jTNzOvznZD"
      }
    },
    {
      "cell_type": "code",
      "source": [
        "# Enter n\n",
        "n = 100\n",
        "\n",
        "# Define A\n",
        "A = np.zeros((n+1, n))\n",
        "for i in range(n+1):\n",
        "    for j in range(n):\n",
        "        if i==j:\n",
        "            A[i,j] = -1\n",
        "    A[-1, :] = 1\n",
        "\n",
        "# Define b\n",
        "b = np.zeros((n+1, 1))\n",
        "b[-1] = 1\n",
        "\n",
        "# Define c\n",
        "c = np.ones((n, 1))\n",
        "\n",
        "#-------------------------------------------------------------------------------\n",
        "\n",
        "# Gradient with projection method\n",
        "def gradient_with_projection(c, A, b, x0, tol = 1e-5, max_iter = 10000):\n",
        "    x = x0\n",
        "    for k in range(max_iter):\n",
        "        # Gradient of f(x): ∇f(x) = c\n",
        "        grad_func = c\n",
        "\n",
        "        # Projected gradient \n",
        "        grad_proj = grad_func + (A.T) @ (np.maximum(0, A @ x - b)) \n",
        "\n",
        "        # Step size\n",
        "        t = 1 / np.linalg.norm(grad_proj)\n",
        "\n",
        "        # Update x\n",
        "        x_new = x - t * grad_proj\n",
        "\n",
        "        # Non-negativity constraint x >= 0\n",
        "        x_new = np.maximum(x_new, 0)\n",
        "\n",
        "        # Stopping criteria\n",
        "        if np.linalg.norm(x_new - x) < tol:\n",
        "            x = x_new\n",
        "            break\n",
        "\n",
        "        x = x_new\n",
        "    \n",
        "    print(f'This function converged at {k} iterations. \\nThe optimal f(x*) = {c.T @ x}\\nx* = {x}')\n",
        "\n",
        "    return x"
      ],
      "metadata": {
        "id": "AzmfZA7VvhYV"
      },
      "execution_count": 28,
      "outputs": []
    },
    {
      "cell_type": "code",
      "source": [
        "x0 = 3*np.ones((n, 1))\n",
        "x = gradient_with_projection(c, A, b, x0)"
      ],
      "metadata": {
        "colab": {
          "base_uri": "https://localhost:8080/"
        },
        "id": "i2uz2YJYN7J-",
        "outputId": "d58e9b0f-50fe-4d76-fad7-207f0a19e9f5"
      },
      "execution_count": 29,
      "outputs": [
        {
          "output_type": "stream",
          "name": "stdout",
          "text": [
            "This function converged at 30 iterations. \n",
            "The optimal f(x*) = [[0.]]\n",
            "x* = [[0.]\n",
            " [0.]\n",
            " [0.]\n",
            " [0.]\n",
            " [0.]\n",
            " [0.]\n",
            " [0.]\n",
            " [0.]\n",
            " [0.]\n",
            " [0.]\n",
            " [0.]\n",
            " [0.]\n",
            " [0.]\n",
            " [0.]\n",
            " [0.]\n",
            " [0.]\n",
            " [0.]\n",
            " [0.]\n",
            " [0.]\n",
            " [0.]\n",
            " [0.]\n",
            " [0.]\n",
            " [0.]\n",
            " [0.]\n",
            " [0.]\n",
            " [0.]\n",
            " [0.]\n",
            " [0.]\n",
            " [0.]\n",
            " [0.]\n",
            " [0.]\n",
            " [0.]\n",
            " [0.]\n",
            " [0.]\n",
            " [0.]\n",
            " [0.]\n",
            " [0.]\n",
            " [0.]\n",
            " [0.]\n",
            " [0.]\n",
            " [0.]\n",
            " [0.]\n",
            " [0.]\n",
            " [0.]\n",
            " [0.]\n",
            " [0.]\n",
            " [0.]\n",
            " [0.]\n",
            " [0.]\n",
            " [0.]\n",
            " [0.]\n",
            " [0.]\n",
            " [0.]\n",
            " [0.]\n",
            " [0.]\n",
            " [0.]\n",
            " [0.]\n",
            " [0.]\n",
            " [0.]\n",
            " [0.]\n",
            " [0.]\n",
            " [0.]\n",
            " [0.]\n",
            " [0.]\n",
            " [0.]\n",
            " [0.]\n",
            " [0.]\n",
            " [0.]\n",
            " [0.]\n",
            " [0.]\n",
            " [0.]\n",
            " [0.]\n",
            " [0.]\n",
            " [0.]\n",
            " [0.]\n",
            " [0.]\n",
            " [0.]\n",
            " [0.]\n",
            " [0.]\n",
            " [0.]\n",
            " [0.]\n",
            " [0.]\n",
            " [0.]\n",
            " [0.]\n",
            " [0.]\n",
            " [0.]\n",
            " [0.]\n",
            " [0.]\n",
            " [0.]\n",
            " [0.]\n",
            " [0.]\n",
            " [0.]\n",
            " [0.]\n",
            " [0.]\n",
            " [0.]\n",
            " [0.]\n",
            " [0.]\n",
            " [0.]\n",
            " [0.]\n",
            " [0.]]\n"
          ]
        }
      ]
    },
    {
      "cell_type": "code",
      "source": [],
      "metadata": {
        "id": "gKIeY4fYN7Q1"
      },
      "execution_count": null,
      "outputs": []
    },
    {
      "cell_type": "code",
      "source": [],
      "metadata": {
        "id": "KIAXJOy_9UQW"
      },
      "execution_count": null,
      "outputs": []
    }
  ]
}